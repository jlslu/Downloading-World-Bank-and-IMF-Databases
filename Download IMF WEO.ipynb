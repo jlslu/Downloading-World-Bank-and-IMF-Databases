{
 "cells": [
  {
   "cell_type": "markdown",
   "id": "13383e59-966b-49ba-a4be-dd72fffc3858",
   "metadata": {},
   "source": [
    "##Downloading the IMF WEO Database\n",
    "You can download the entire IMF World Economic Outlook (WEO) dataset using Python with the help of the `weo-reader` package. This will download the WEO dataset for April 2024 and save it as a CSV file named `weo.csv`.\n",
    "\n",
    "More on the `weo-reader` package can be found here [weo-reader documentation on GitHub](https://github.com/epogrebnyak/weo-reader)².\n",
    "\n",
    "\n",
    "Critical links;\n",
    "(1) weo · PyPI. https://pypi.org/project/weo/.\n",
    "(2) GitHub - epogrebnyak/weo-reader: Python client to read IMF World .... https://github.com/epogrebnyak/weo-reader.\n",
    "(3) imf-reader - PyPI. https://pypi.org/project/imf-reader/.\n",
    "(4) weo 0.7.4 on PyPI - Libraries.io. https://libraries.io/pypi/weo.\n",
    "(5) undefined. https://github.com/epogrebnyak/weo-reader.git."
   ]
  },
  {
   "cell_type": "markdown",
   "id": "de971606-99a8-4871-be5f-8794a3ef1755",
   "metadata": {},
   "source": [
    "The command below downloads the IMF WEO of your choosing to a folder of your choice"
   ]
  },
  {
   "cell_type": "code",
   "execution_count": 1,
   "id": "1196e588-c2c5-4781-972c-86131be2902d",
   "metadata": {},
   "outputs": [
    {
     "name": "stdout",
     "output_type": "stream",
     "text": [
      "/Users/janai/Documents/Documents – Janai’s MacBook Air/Personal Files/Learnings/GitHub/Downloading-World-Bank-and-IMF-Databases/Output/weo.csv 19.3Mb\n",
      "Downloaded 2025-Apr WEO dataset\n",
      "\n",
      "First few rows of the data:\n",
      "  WEO Country Code  ISO WEO Subject Code      Country  \\\n",
      "0              512  AFG           NGDP_R  Afghanistan   \n",
      "1              512  AFG        NGDP_RPCH  Afghanistan   \n",
      "2              512  AFG             NGDP  Afghanistan   \n",
      "3              512  AFG            NGDPD  Afghanistan   \n",
      "4              512  AFG           PPPGDP  Afghanistan   \n",
      "\n",
      "                        Subject Descriptor  \\\n",
      "0  Gross domestic product, constant prices   \n",
      "1  Gross domestic product, constant prices   \n",
      "2   Gross domestic product, current prices   \n",
      "3   Gross domestic product, current prices   \n",
      "4   Gross domestic product, current prices   \n",
      "\n",
      "                                       Subject Notes  \\\n",
      "0  Expressed in billions of national currency uni...   \n",
      "1  Annual percentages of constant price GDP are y...   \n",
      "2  Expressed in billions of national currency uni...   \n",
      "3  Values are based upon GDP in national currency...   \n",
      "4  These data form the basis for the country weig...   \n",
      "\n",
      "                                            Units     Scale  \\\n",
      "0                               National currency  Billions   \n",
      "1                                  Percent change     Units   \n",
      "2                               National currency  Billions   \n",
      "3                                    U.S. dollars  Billions   \n",
      "4  Purchasing power parity; international dollars  Billions   \n",
      "\n",
      "                       Country/Series-specific Notes 1980  ...       2022  \\\n",
      "0  Source: National Statistics Office Latest actu...  NaN  ...  1,032.712   \n",
      "1  See notes for:  Gross domestic product, consta...  NaN  ...     -6.240   \n",
      "2  Source: National Statistics Office Latest actu...  NaN  ...  1,283.442   \n",
      "3  See notes for:  Gross domestic product, curren...  NaN  ...     14.501   \n",
      "4  See notes for:  Gross domestic product, curren...  NaN  ...     86.149   \n",
      "\n",
      "        2023 2024 2025 2026 2027 2028 2029 2030 Estimates Start After  \n",
      "0  1,056.123  NaN  NaN  NaN  NaN  NaN  NaN  NaN                2024.0  \n",
      "1      2.267  NaN  NaN  NaN  NaN  NaN  NaN  NaN                2024.0  \n",
      "2  1,350.910  NaN  NaN  NaN  NaN  NaN  NaN  NaN                2024.0  \n",
      "3     17.248  NaN  NaN  NaN  NaN  NaN  NaN  NaN                2024.0  \n",
      "4     91.272  NaN  NaN  NaN  NaN  NaN  NaN  NaN                2024.0  \n",
      "\n",
      "[5 rows x 61 columns]\n"
     ]
    }
   ],
   "source": [
    "\n",
    "\n",
    "from weo import download, WEO\n",
    "import os\n",
    "\n",
    "# Get home directory path\n",
    "home = os.path.expanduser(\"/Users/janai/Documents/Documents – Janai’s MacBook Air/Personal Files/Learnings/GitHub/Downloading-World-Bank-and-IMF-Databases/Output\")# change this to your folder path\n",
    "download_path = os.path.join(home, 'weo.csv')\n",
    "\n",
    "# Download the file. You can change year and release data here.\n",
    "path, url = download(year=2025, release='Apr', filename=download_path)\n",
    "\n",
    "# Load and preview data\n",
    "weo_data = WEO(download_path)\n",
    "weo_df = weo_data.df\n",
    "print(\"\\nFirst few rows of the data:\")\n",
    "print(weo_df.head())"
   ]
  },
  {
   "cell_type": "markdown",
   "id": "6eb35e2b-abc7-407c-be98-5ff824efecd8",
   "metadata": {},
   "source": [
    "To limit the code to only a few countries note the following code"
   ]
  },
  {
   "cell_type": "code",
   "execution_count": null,
   "id": "aa5e7beb-04f6-429d-b49a-4c3560556aa0",
   "metadata": {},
   "outputs": [],
   "source": [
    "import pandas as pd\n",
    "# If you wanted to limit to a few countries you can enter the country names here.\n",
    "weo_filter_df = pd.DataFrame({\n",
    "    'Country': ['United States', 'China', 'Japan'],\n",
    "    'WEO Subject Code': ['NGDP_RPCH', 'PCPIPCH', 'BCA']\n",
    "})\n",
    "\n",
    "# Merge and filter\n",
    "filtered_weo = pd.merge(\n",
    "    weo_df, \n",
    "    weo_filter_df, \n",
    "    how='inner',\n",
    "    on=['Country', 'WEO Subject Code']\n",
    ")\n",
    "\n",
    "print(\"Original shape:\", weo_df.shape)\n",
    "print(\"Filtered shape:\", filtered_weo.shape)\n",
    "print(\"\\nFirst few rows of filtered data:\")\n",
    "print(filtered_weo.head())"
   ]
  },
  {
   "cell_type": "markdown",
   "id": "eaec22a2",
   "metadata": {},
   "source": [
    "This filtered file can also be downloaded to a folder of your choice"
   ]
  },
  {
   "cell_type": "code",
   "execution_count": null,
   "id": "b779898f-b952-4a9f-be8c-afb63b1a09c9",
   "metadata": {},
   "outputs": [],
   "source": [
    "import os\n",
    "\n",
    "# Get home directory and create export path\n",
    "home_filter = os.path.expanduser(\"/Users/\")# change this to your folder path\n",
    "export_path_filter = os.path.join(home_filter, 'filtered_weo.csv')\n",
    "\n",
    "# Export to CSV\n",
    "filtered_weo.to_csv(export_path_filter, index=False)\n",
    "print(f\"Data exported to: {export_path_filter}\")\n",
    "\n",
    "\n"
   ]
  },
  {
   "cell_type": "markdown",
   "id": "144c7a47",
   "metadata": {},
   "source": [
    "To plot directly from the data have a look at the example below"
   ]
  },
  {
   "cell_type": "code",
   "execution_count": 91,
   "id": "8d373ff5-0d1b-416c-bb20-1a23def5b752",
   "metadata": {},
   "outputs": [],
   "source": [
    "w=WEO('weo.csv')"
   ]
  },
  {
   "cell_type": "code",
   "execution_count": 93,
   "id": "a54fed5e-7e6f-42d9-8593-5310028a7809",
   "metadata": {
    "scrolled": true
   },
   "outputs": [
    {
     "data": {
      "text/plain": [
       "<Axes: title={'center': 'GDP by country, USD billion (2024)'}>"
      ]
     },
     "execution_count": 93,
     "metadata": {},
     "output_type": "execute_result"
    },
    {
     "data": {
      "image/png": "[encoded data removed]",
      "text/plain": [
       "<Figure size 640x480 with 1 Axes>"
      ]
     },
     "metadata": {},
     "output_type": "display_data"
    }
   ],
   "source": [
    "(w.gdp_usd(2024)\n",
    "  .dropna()\n",
    "  .sort_values()\n",
    "  .tail(12)\n",
    "  .plot\n",
    "  .barh(title=\"GDP by country, USD billion (2024)\")\n",
    ")"
   ]
  }
 ],
 "metadata": {
  "kernelspec": {
   "display_name": "jlslu2025",
   "language": "python",
   "name": "python3"
  },
  "language_info": {
   "codemirror_mode": {
    "name": "ipython",
    "version": 3
   },
   "file_extension": ".py",
   "mimetype": "text/x-python",
   "name": "python",
   "nbconvert_exporter": "python",
   "pygments_lexer": "ipython3",
   "version": "3.13.2"
  }
 },
 "nbformat": 4,
 "nbformat_minor": 5
}
