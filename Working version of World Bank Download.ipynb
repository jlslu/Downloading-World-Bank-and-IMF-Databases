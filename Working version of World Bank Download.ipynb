{
 "cells": [
  {
   "cell_type": "markdown",
   "metadata": {},
   "source": [
    "The World Bank WDI Indicators is a quite a large dataset with 100's of indicators. This code is designed to you to specify an indicators list and download on these indicators. This i found is a more efficent way to download data. One issue i ran into was that some indicator codes may not be avialble with due to code changes etc. The code therefore assess which indicators are available and download these while point out which downloads failed. "
   ]
  },
  {
   "cell_type": "code",
   "execution_count": null,
   "metadata": {},
   "outputs": [
    {
     "name": "stdout",
     "output_type": "stream",
     "text": [
      "Please select the countries Excel file...\n"
     ]
    },
    {
     "name": "stderr",
     "output_type": "stream",
     "text": [
      "2025-08-27 17:35:28.421 python[3770:64711] The class 'NSOpenPanel' overrides the method identifier.  This method is implemented by class 'NSWindow'\n"
     ]
    },
    {
     "name": "stdout",
     "output_type": "stream",
     "text": [
      "Please select the indicators Excel file...\n",
      "\n",
      "Attempting to download data...\n"
     ]
    },
    {
     "name": "stderr",
     "output_type": "stream",
     "text": [
      "Key '-1062652772312565278' not in persistent cache.\n",
      "WARNING:shelved_cache.persistent_cache:Key '-5477506883174506851' not in persistent cache.\n",
      "WARNING:shelved_cache.persistent_cache:Key '-7332337890807200119' not in persistent cache.\n",
      "WARNING:shelved_cache.persistent_cache:Key '-2123445568445215547' not in persistent cache.\n",
      "WARNING:shelved_cache.persistent_cache:Key '1350790272460120421' not in persistent cache.\n",
      "WARNING:shelved_cache.persistent_cache:Key '-4111728984281990104' not in persistent cache.\n",
      "WARNING:shelved_cache.persistent_cache:Key '-4323930666358016895' not in persistent cache.\n",
      "WARNING:shelved_cache.persistent_cache:Key '-5460671094365001888' not in persistent cache.\n",
      "WARNING:shelved_cache.persistent_cache:Key '-7813247986913940426' not in persistent cache.\n",
      "WARNING:shelved_cache.persistent_cache:Key '-2099639889948606364' not in persistent cache.\n",
      "WARNING:shelved_cache.persistent_cache:Key '2020867956468104398' not in persistent cache.\n",
      "WARNING:shelved_cache.persistent_cache:Key '1218969564265187727' not in persistent cache.\n",
      "WARNING:shelved_cache.persistent_cache:Key '3157646115608478003' not in persistent cache.\n",
      "WARNING:shelved_cache.persistent_cache:Key '-3380473948273080932' not in persistent cache.\n",
      "WARNING:shelved_cache.persistent_cache:Key '3041843904681613496' not in persistent cache.\n",
      "WARNING:shelved_cache.persistent_cache:Key '-2182462567706215138' not in persistent cache.\n",
      "WARNING:shelved_cache.persistent_cache:Key '1951267081809494287' not in persistent cache.\n",
      "WARNING:shelved_cache.persistent_cache:Key '-5014070002326204926' not in persistent cache.\n",
      "WARNING:shelved_cache.persistent_cache:Key '-1190706506461881577' not in persistent cache.\n",
      "WARNING:shelved_cache.persistent_cache:Key '-1583751541626749781' not in persistent cache.\n",
      "WARNING:shelved_cache.persistent_cache:Key '-4202963561281019571' not in persistent cache.\n",
      "WARNING:shelved_cache.persistent_cache:Key '8173846491670094301' not in persistent cache.\n",
      "WARNING:shelved_cache.persistent_cache:Key '-890440854938128759' not in persistent cache.\n",
      "WARNING:shelved_cache.persistent_cache:Key '2710921849033708505' not in persistent cache.\n",
      "WARNING:shelved_cache.persistent_cache:Key '2834746141129608738' not in persistent cache.\n",
      "WARNING:shelved_cache.persistent_cache:Key '-5617648250089021244' not in persistent cache.\n",
      "WARNING:shelved_cache.persistent_cache:Key '-7040132008064616763' not in persistent cache.\n",
      "WARNING:shelved_cache.persistent_cache:Key '-380467026263292878' not in persistent cache.\n",
      "WARNING:shelved_cache.persistent_cache:Key '-7533133700192541611' not in persistent cache.\n",
      "WARNING:shelved_cache.persistent_cache:Key '5703416095371324431' not in persistent cache.\n",
      "WARNING:shelved_cache.persistent_cache:Key '4478761345299129098' not in persistent cache.\n",
      "WARNING:shelved_cache.persistent_cache:Key '-6475382777053163367' not in persistent cache.\n",
      "WARNING:shelved_cache.persistent_cache:Key '6030938450773751564' not in persistent cache.\n",
      "WARNING:shelved_cache.persistent_cache:Key '-3411838398200949296' not in persistent cache.\n",
      "WARNING:shelved_cache.persistent_cache:Key '-2848206161690084959' not in persistent cache.\n",
      "WARNING:shelved_cache.persistent_cache:Key '4469199720094186906' not in persistent cache.\n",
      "WARNING:shelved_cache.persistent_cache:Key '-5986236980884641001' not in persistent cache.\n"
     ]
    },
    {
     "name": "stdout",
     "output_type": "stream",
     "text": [
      "Could not download indicator: AG.AGR.TRAC.NO - Agricultural machinery, tractors\n",
      "Could not download indicator: AG.LND.TRAC.ZS - Agricultural machinery, tractors per 100 sq. km of arable land\n"
     ]
    },
    {
     "name": "stderr",
     "output_type": "stream",
     "text": [
      "WARNING:shelved_cache.persistent_cache:Key '2943035244861659405' not in persistent cache.\n"
     ]
    },
    {
     "name": "stdout",
     "output_type": "stream",
     "text": [
      "Could not download indicator: EN.ATM.METH.AG.ZS - Agricultural methane emissions (% of total)\n"
     ]
    },
    {
     "name": "stderr",
     "output_type": "stream",
     "text": [
      "WARNING:shelved_cache.persistent_cache:Key '5087339368127715359' not in persistent cache.\n"
     ]
    },
    {
     "name": "stdout",
     "output_type": "stream",
     "text": [
      "Could not download indicator: EN.ATM.METH.AG.KT.CE - Agricultural methane emissions (thousand metric tons of CO2 equivalent)\n"
     ]
    },
    {
     "name": "stderr",
     "output_type": "stream",
     "text": [
      "WARNING:shelved_cache.persistent_cache:Key '5524429176731001221' not in persistent cache.\n"
     ]
    },
    {
     "name": "stdout",
     "output_type": "stream",
     "text": [
      "Could not download indicator: EN.ATM.NOXE.AG.ZS - Agricultural nitrous oxide emissions (% of total)\n"
     ]
    },
    {
     "name": "stderr",
     "output_type": "stream",
     "text": [
      "WARNING:shelved_cache.persistent_cache:Key '-581189127361386296' not in persistent cache.\n"
     ]
    },
    {
     "name": "stdout",
     "output_type": "stream",
     "text": [
      "Could not download indicator: EN.ATM.NOXE.AG.KT.CE - Agricultural nitrous oxide emissions (thousand metric tons of CO2 equivalent)\n"
     ]
    },
    {
     "name": "stderr",
     "output_type": "stream",
     "text": [
      "WARNING:shelved_cache.persistent_cache:Key '1482443851904889408' not in persistent cache.\n",
      "WARNING:shelved_cache.persistent_cache:Key '-5955474373290707457' not in persistent cache.\n",
      "WARNING:shelved_cache.persistent_cache:Key '3304344758434868302' not in persistent cache.\n",
      "WARNING:shelved_cache.persistent_cache:Key '3158896507090989451' not in persistent cache.\n",
      "WARNING:shelved_cache.persistent_cache:Key '-4431966385628400111' not in persistent cache.\n",
      "WARNING:shelved_cache.persistent_cache:Key '8499327601089563274' not in persistent cache.\n",
      "WARNING:shelved_cache.persistent_cache:Key '662071534996939329' not in persistent cache.\n",
      "WARNING:shelved_cache.persistent_cache:Key '-7995154929515727271' not in persistent cache.\n",
      "WARNING:shelved_cache.persistent_cache:Key '5847066405578350172' not in persistent cache.\n",
      "WARNING:shelved_cache.persistent_cache:Key '5545528859982398378' not in persistent cache.\n",
      "WARNING:shelved_cache.persistent_cache:Key '6214882323487670570' not in persistent cache.\n",
      "WARNING:shelved_cache.persistent_cache:Key '-7934039517312270626' not in persistent cache.\n",
      "WARNING:shelved_cache.persistent_cache:Key '8534167778803173146' not in persistent cache.\n",
      "WARNING:shelved_cache.persistent_cache:Key '-7930310065061752290' not in persistent cache.\n",
      "WARNING:shelved_cache.persistent_cache:Key '-6119930836583902014' not in persistent cache.\n",
      "WARNING:shelved_cache.persistent_cache:Key '8722683933725820028' not in persistent cache.\n",
      "WARNING:shelved_cache.persistent_cache:Key '-1653394932212252683' not in persistent cache.\n",
      "WARNING:shelved_cache.persistent_cache:Key '3936049793917832620' not in persistent cache.\n",
      "WARNING:shelved_cache.persistent_cache:Key '-706145693148794811' not in persistent cache.\n",
      "WARNING:shelved_cache.persistent_cache:Key '4452301812845091317' not in persistent cache.\n",
      "WARNING:shelved_cache.persistent_cache:Key '-4344187180255692939' not in persistent cache.\n",
      "WARNING:shelved_cache.persistent_cache:Key '-3833087193380101313' not in persistent cache.\n",
      "WARNING:shelved_cache.persistent_cache:Key '-9141354751530049970' not in persistent cache.\n",
      "WARNING:shelved_cache.persistent_cache:Key '8559339355752573616' not in persistent cache.\n",
      "WARNING:shelved_cache.persistent_cache:Key '3244485068241369446' not in persistent cache.\n",
      "WARNING:shelved_cache.persistent_cache:Key '5642305091766452044' not in persistent cache.\n",
      "WARNING:shelved_cache.persistent_cache:Key '-6168919508562126077' not in persistent cache.\n",
      "WARNING:shelved_cache.persistent_cache:Key '-5274945255592000480' not in persistent cache.\n",
      "WARNING:shelved_cache.persistent_cache:Key '5708791507695596814' not in persistent cache.\n",
      "WARNING:shelved_cache.persistent_cache:Key '-2418833599942063015' not in persistent cache.\n",
      "WARNING:shelved_cache.persistent_cache:Key '4288058348006174173' not in persistent cache.\n",
      "WARNING:shelved_cache.persistent_cache:Key '7715687330914782814' not in persistent cache.\n",
      "WARNING:shelved_cache.persistent_cache:Key '-3031989746390619281' not in persistent cache.\n",
      "WARNING:shelved_cache.persistent_cache:Key '-3108790238891892225' not in persistent cache.\n",
      "WARNING:shelved_cache.persistent_cache:Key '7906103979048620473' not in persistent cache.\n",
      "WARNING:shelved_cache.persistent_cache:Key '-758556503849811717' not in persistent cache.\n",
      "WARNING:shelved_cache.persistent_cache:Key '2228440184847791169' not in persistent cache.\n",
      "WARNING:shelved_cache.persistent_cache:Key '-128248324644255808' not in persistent cache.\n",
      "WARNING:shelved_cache.persistent_cache:Key '1068623724439600016' not in persistent cache.\n",
      "WARNING:shelved_cache.persistent_cache:Key '6323416197995100627' not in persistent cache.\n",
      "WARNING:shelved_cache.persistent_cache:Key '-7114090914470761857' not in persistent cache.\n",
      "WARNING:shelved_cache.persistent_cache:Key '7108945028573794459' not in persistent cache.\n"
     ]
    },
    {
     "name": "stdout",
     "output_type": "stream",
     "text": [
      "Could not download indicator: EN.ATM.CO2E.KD.GD - CO2 emissions (kg per 2015 US$ of GDP)\n"
     ]
    },
    {
     "name": "stderr",
     "output_type": "stream",
     "text": [
      "WARNING:shelved_cache.persistent_cache:Key '-897635832261656802' not in persistent cache.\n"
     ]
    },
    {
     "name": "stdout",
     "output_type": "stream",
     "text": [
      "Could not download indicator: EN.ATM.CO2E.PP.GD.KD - CO2 emissions (kg per 2017 PPP $ of GDP)\n"
     ]
    },
    {
     "name": "stderr",
     "output_type": "stream",
     "text": [
      "WARNING:shelved_cache.persistent_cache:Key '6523017468072358927' not in persistent cache.\n"
     ]
    },
    {
     "name": "stdout",
     "output_type": "stream",
     "text": [
      "Could not download indicator: EN.ATM.CO2E.PP.GD - CO2 emissions (kg per PPP $ of GDP)\n"
     ]
    },
    {
     "name": "stderr",
     "output_type": "stream",
     "text": [
      "WARNING:shelved_cache.persistent_cache:Key '8129234570870205558' not in persistent cache.\n",
      "WARNING:shelved_cache.persistent_cache:Key '7666614680090100037' not in persistent cache.\n"
     ]
    },
    {
     "name": "stdout",
     "output_type": "stream",
     "text": [
      "Could not download indicator: EN.ATM.CO2E.KT - CO2 emissions (kt)\n",
      "Could not download indicator: EN.ATM.CO2E.PC - CO2 emissions (metric tons per capita)\n"
     ]
    },
    {
     "name": "stderr",
     "output_type": "stream",
     "text": [
      "WARNING:shelved_cache.persistent_cache:Key '7818508389630112088' not in persistent cache.\n",
      "WARNING:shelved_cache.persistent_cache:Key '6061551334645592895' not in persistent cache.\n"
     ]
    },
    {
     "name": "stdout",
     "output_type": "stream",
     "text": [
      "Could not download indicator: EN.ATM.CO2E.GF.ZS - CO2 emissions from gaseous fuel consumption (% of total)\n",
      "Could not download indicator: EN.ATM.CO2E.GF.KT - CO2 emissions from gaseous fuel consumption (kt)\n"
     ]
    },
    {
     "name": "stderr",
     "output_type": "stream",
     "text": [
      "WARNING:shelved_cache.persistent_cache:Key '-4331582988405348249' not in persistent cache.\n"
     ]
    },
    {
     "name": "stdout",
     "output_type": "stream",
     "text": [
      "Could not download indicator: EN.ATM.CO2E.LF.ZS - CO2 emissions from liquid fuel consumption (% of total)\n"
     ]
    },
    {
     "name": "stderr",
     "output_type": "stream",
     "text": [
      "WARNING:shelved_cache.persistent_cache:Key '-1676867448268721502' not in persistent cache.\n"
     ]
    },
    {
     "name": "stdout",
     "output_type": "stream",
     "text": [
      "Could not download indicator: EN.ATM.CO2E.LF.KT - CO2 emissions from liquid fuel consumption (kt)\n"
     ]
    },
    {
     "name": "stderr",
     "output_type": "stream",
     "text": [
      "WARNING:shelved_cache.persistent_cache:Key '-5817914426275534611' not in persistent cache.\n",
      "WARNING:shelved_cache.persistent_cache:Key '-7685362958835074988' not in persistent cache.\n"
     ]
    },
    {
     "name": "stdout",
     "output_type": "stream",
     "text": [
      "Could not download indicator: EN.ATM.CO2E.SF.ZS - CO2 emissions from solid fuel consumption (% of total)\n",
      "Could not download indicator: EN.ATM.CO2E.SF.KT - CO2 emissions from solid fuel consumption (kt)\n"
     ]
    },
    {
     "name": "stderr",
     "output_type": "stream",
     "text": [
      "WARNING:shelved_cache.persistent_cache:Key '4756936648780958296' not in persistent cache.\n",
      "WARNING:shelved_cache.persistent_cache:Key '-3972436542477514983' not in persistent cache.\n",
      "WARNING:shelved_cache.persistent_cache:Key '2273562692658312906' not in persistent cache.\n",
      "WARNING:shelved_cache.persistent_cache:Key '-934988676798131858' not in persistent cache.\n",
      "WARNING:shelved_cache.persistent_cache:Key '466543142781377620' not in persistent cache.\n",
      "WARNING:shelved_cache.persistent_cache:Key '-1502118073709873291' not in persistent cache.\n",
      "WARNING:shelved_cache.persistent_cache:Key '3700156868478293299' not in persistent cache.\n"
     ]
    },
    {
     "name": "stdout",
     "output_type": "stream",
     "text": [
      "Could not download indicator: EN.ATM.METH.EG.ZS - Energy related methane emissions (% of total)\n",
      "Could not download indicator: EN.ATM.METH.ZG - Methane emissions (% change from 1990)\n",
      "Could not download indicator: EN.ATM.METH.KT.CE - Methane emissions (kt of CO2 equivalent)\n",
      "Could not download indicator: EN.ATM.METH.EG.KT.CE - Methane emissions in energy sector (thousand metric tons of CO2 equivalent)\n",
      "Could not download indicator: EN.ATM.NOXE.ZG - Nitrous oxide emissions (% change from 1990)\n",
      "Could not download indicator: EN.ATM.NOXE.KT.CE - Nitrous oxide emissions (thousand metric tons of CO2 equivalent)\n",
      "Could not download indicator: EN.ATM.NOXE.EG.ZS - Nitrous oxide emissions in energy sector (% of total)\n",
      "Could not download indicator: EN.ATM.NOXE.EG.KT.CE - Nitrous oxide emissions in energy sector (thousand metric tons of CO2 equivalent)\n",
      "Could not download indicator: EN.ATM.GHGO.ZG - Other greenhouse gas emissions (% change from 1990)\n",
      "Could not download indicator: EN.ATM.GHGO.KT.CE - Other greenhouse gas emissions, HFC, PFC and SF6 (thousand metric tons of CO2 equivalent)\n",
      "Could not download indicator: SM.POP.REFG.OR - Refugee population by country or territory of origin\n",
      "Could not download indicator: TM.TAX.MRCH.IP.ZS - Share of tariff lines with international peaks, all products (%)\n",
      "Could not download indicator: TM.TAX.MANF.IP.ZS - Share of tariff lines with international peaks, manufactured products (%)\n",
      "Could not download indicator: TM.TAX.TCOM.IP.ZS - Share of tariff lines with international peaks, primary products (%)\n",
      "Could not download indicator: TM.TAX.MRCH.SR.ZS - Share of tariff lines with specific rates, all products (%)\n",
      "Could not download indicator: TM.TAX.MANF.SR.ZS - Share of tariff lines with specific rates, manufactured products (%)\n",
      "Could not download indicator: TM.TAX.TCOM.SR.ZS - Share of tariff lines with specific rates, primary products (%)\n",
      "Could not download indicator: EN.ATM.GHGT.ZG - Total greenhouse gas emissions (% change from 1990)\n",
      "Could not download indicator: EN.ATM.GHGT.KT.CE - Total greenhouse gas emissions (kt of CO2 equivalent)\n",
      "\n",
      "The following indicators could not be downloaded:\n",
      "- AG.AGR.TRAC.NO: Agricultural machinery, tractors\n",
      "- AG.LND.TRAC.ZS: Agricultural machinery, tractors per 100 sq. km of arable land\n",
      "- EN.ATM.METH.AG.ZS: Agricultural methane emissions (% of total)\n",
      "- EN.ATM.METH.AG.KT.CE: Agricultural methane emissions (thousand metric tons of CO2 equivalent)\n",
      "- EN.ATM.NOXE.AG.ZS: Agricultural nitrous oxide emissions (% of total)\n",
      "- EN.ATM.NOXE.AG.KT.CE: Agricultural nitrous oxide emissions (thousand metric tons of CO2 equivalent)\n",
      "- EN.ATM.CO2E.KD.GD: CO2 emissions (kg per 2015 US$ of GDP)\n",
      "- EN.ATM.CO2E.PP.GD.KD: CO2 emissions (kg per 2017 PPP $ of GDP)\n",
      "- EN.ATM.CO2E.PP.GD: CO2 emissions (kg per PPP $ of GDP)\n",
      "- EN.ATM.CO2E.KT: CO2 emissions (kt)\n",
      "- EN.ATM.CO2E.PC: CO2 emissions (metric tons per capita)\n",
      "- EN.ATM.CO2E.GF.ZS: CO2 emissions from gaseous fuel consumption (% of total)\n",
      "- EN.ATM.CO2E.GF.KT: CO2 emissions from gaseous fuel consumption (kt)\n",
      "- EN.ATM.CO2E.LF.ZS: CO2 emissions from liquid fuel consumption (% of total)\n",
      "- EN.ATM.CO2E.LF.KT: CO2 emissions from liquid fuel consumption (kt)\n",
      "- EN.ATM.CO2E.SF.ZS: CO2 emissions from solid fuel consumption (% of total)\n",
      "- EN.ATM.CO2E.SF.KT: CO2 emissions from solid fuel consumption (kt)\n",
      "- EN.ATM.METH.EG.ZS: Energy related methane emissions (% of total)\n",
      "- EN.ATM.METH.ZG: Methane emissions (% change from 1990)\n",
      "- EN.ATM.METH.KT.CE: Methane emissions (kt of CO2 equivalent)\n",
      "- EN.ATM.METH.EG.KT.CE: Methane emissions in energy sector (thousand metric tons of CO2 equivalent)\n",
      "- EN.ATM.NOXE.ZG: Nitrous oxide emissions (% change from 1990)\n",
      "- EN.ATM.NOXE.KT.CE: Nitrous oxide emissions (thousand metric tons of CO2 equivalent)\n",
      "- EN.ATM.NOXE.EG.ZS: Nitrous oxide emissions in energy sector (% of total)\n",
      "- EN.ATM.NOXE.EG.KT.CE: Nitrous oxide emissions in energy sector (thousand metric tons of CO2 equivalent)\n",
      "- EN.ATM.GHGO.ZG: Other greenhouse gas emissions (% change from 1990)\n",
      "- EN.ATM.GHGO.KT.CE: Other greenhouse gas emissions, HFC, PFC and SF6 (thousand metric tons of CO2 equivalent)\n",
      "- SM.POP.REFG.OR: Refugee population by country or territory of origin\n",
      "- TM.TAX.MRCH.IP.ZS: Share of tariff lines with international peaks, all products (%)\n",
      "- TM.TAX.MANF.IP.ZS: Share of tariff lines with international peaks, manufactured products (%)\n",
      "- TM.TAX.TCOM.IP.ZS: Share of tariff lines with international peaks, primary products (%)\n",
      "- TM.TAX.MRCH.SR.ZS: Share of tariff lines with specific rates, all products (%)\n",
      "- TM.TAX.MANF.SR.ZS: Share of tariff lines with specific rates, manufactured products (%)\n",
      "- TM.TAX.TCOM.SR.ZS: Share of tariff lines with specific rates, primary products (%)\n",
      "- EN.ATM.GHGT.ZG: Total greenhouse gas emissions (% change from 1990)\n",
      "- EN.ATM.GHGT.KT.CE: Total greenhouse gas emissions (kt of CO2 equivalent)\n",
      "Please select where to save the output file...\n"
     ]
    },
    {
     "name": "stderr",
     "output_type": "stream",
     "text": [
      "2025-08-27 17:41:47.265 python[3770:64711] The class 'NSSavePanel' overrides the method identifier.  This method is implemented by class 'NSWindow'\n"
     ]
    },
    {
     "name": "stdout",
     "output_type": "stream",
     "text": [
      "Data exported to: /Users/janai/Documents/Documents – Janai’s MacBook Air/Personal Files/Learnings/GitHub/Downloading-World-Bank-and-IMF-Databases/Output/data.csv\n",
      "\n",
      "First few rows of downloaded data:\n",
      "               country  date  \\\n",
      "0  Antigua and Barbuda  2024   \n",
      "1  Antigua and Barbuda  2023   \n",
      "2  Antigua and Barbuda  2022   \n",
      "3  Antigua and Barbuda  2021   \n",
      "4  Antigua and Barbuda  2020   \n",
      "\n",
      "   Access to clean fuels and technologies for cooking (% of population)  \\\n",
      "0                                                NaN                      \n",
      "1                                                NaN                      \n",
      "2                                              100.0                      \n",
      "3                                              100.0                      \n",
      "4                                              100.0                      \n",
      "\n",
      "   Access to clean fuels and technologies for cooking, rural (% of rural population)  \\\n",
      "0                                                NaN                                   \n",
      "1                                                NaN                                   \n",
      "2                                              100.0                                   \n",
      "3                                              100.0                                   \n",
      "4                                              100.0                                   \n",
      "\n",
      "   Access to clean fuels and technologies for cooking, urban (% of urban population)  \\\n",
      "0                                                NaN                                   \n",
      "1                                                NaN                                   \n",
      "2                                              100.0                                   \n",
      "3                                              100.0                                   \n",
      "4                                              100.0                                   \n",
      "\n",
      "   Access to electricity (% of population)  \\\n",
      "0                                      NaN   \n",
      "1                                    100.0   \n",
      "2                                    100.0   \n",
      "3                                    100.0   \n",
      "4                                    100.0   \n",
      "\n",
      "   Access to electricity, rural (% of rural population)  \\\n",
      "0                                                NaN      \n",
      "1                                              100.0      \n",
      "2                                              100.0      \n",
      "3                                              100.0      \n",
      "4                                              100.0      \n",
      "\n",
      "   Access to electricity, urban (% of urban population)  \\\n",
      "0                                                NaN      \n",
      "1                                              100.0      \n",
      "2                                              100.0      \n",
      "3                                              100.0      \n",
      "4                                              100.0      \n",
      "\n",
      "   Adjusted net enrollment rate, primary (% of primary school age children)  \\\n",
      "0                                                NaN                          \n",
      "1                                                NaN                          \n",
      "2                                                NaN                          \n",
      "3                                                NaN                          \n",
      "4                                                NaN                          \n",
      "\n",
      "   Adjusted net enrollment rate, primary, female (% of primary school age children)  \\\n",
      "0                                                NaN                                  \n",
      "1                                                NaN                                  \n",
      "2                                                NaN                                  \n",
      "3                                                NaN                                  \n",
      "4                                                NaN                                  \n",
      "\n",
      "   ...  \\\n",
      "0  ...   \n",
      "1  ...   \n",
      "2  ...   \n",
      "3  ...   \n",
      "4  ...   \n",
      "\n",
      "   Voice and Accountability: Percentile Rank, Lower Bound of 90% Confidence Interval  \\\n",
      "0                                                NaN                                   \n",
      "1                                          58.333332                                   \n",
      "2                                          58.454105                                   \n",
      "3                                          57.971016                                   \n",
      "4                                          58.937199                                   \n",
      "\n",
      "   Voice and Accountability: Percentile Rank, Upper Bound of 90% Confidence Interval  \\\n",
      "0                                                NaN                                   \n",
      "1                                          86.274513                                   \n",
      "2                                          85.990341                                   \n",
      "3                                          85.024155                                   \n",
      "4                                          83.091789                                   \n",
      "\n",
      "   Voice and Accountability: Standard Error  \\\n",
      "0                                       NaN   \n",
      "1                                  0.239545   \n",
      "2                                  0.234878   \n",
      "3                                  0.225940   \n",
      "4                                  0.210738   \n",
      "\n",
      "   Vulnerable employment, female (% of female employment) (modeled ILO estimate)  \\\n",
      "0                                                NaN                               \n",
      "1                                                NaN                               \n",
      "2                                                NaN                               \n",
      "3                                                NaN                               \n",
      "4                                                NaN                               \n",
      "\n",
      "   Vulnerable employment, male (% of male employment) (modeled ILO estimate)  \\\n",
      "0                                                NaN                           \n",
      "1                                                NaN                           \n",
      "2                                                NaN                           \n",
      "3                                                NaN                           \n",
      "4                                                NaN                           \n",
      "\n",
      "   Vulnerable employment, total (% of total employment) (modeled ILO estimate)  \\\n",
      "0                                                NaN                             \n",
      "1                                                NaN                             \n",
      "2                                                NaN                             \n",
      "3                                                NaN                             \n",
      "4                                                NaN                             \n",
      "\n",
      "   Wage and salaried workers, female (% of female employment) (modeled ILO estimate)  \\\n",
      "0                                                NaN                                   \n",
      "1                                                NaN                                   \n",
      "2                                                NaN                                   \n",
      "3                                                NaN                                   \n",
      "4                                                NaN                                   \n",
      "\n",
      "   Wage and salaried workers, male (% of male employment) (modeled ILO estimate)  \\\n",
      "0                                                NaN                               \n",
      "1                                                NaN                               \n",
      "2                                                NaN                               \n",
      "3                                                NaN                               \n",
      "4                                                NaN                               \n",
      "\n",
      "   Wage and salaried workers, total (% of total employment) (modeled ILO estimate)  \\\n",
      "0                                                NaN                                 \n",
      "1                                                NaN                                 \n",
      "2                                                NaN                                 \n",
      "3                                                NaN                                 \n",
      "4                                                NaN                                 \n",
      "\n",
      "   Women Business and the Law Index Score (scale 1-100)  \n",
      "0                                                NaN     \n",
      "1                                              68.75     \n",
      "2                                              68.75     \n",
      "3                                              66.25     \n",
      "4                                              66.25     \n",
      "\n",
      "[5 rows x 687 columns]\n"
     ]
    },
    {
     "ename": "",
     "evalue": "",
     "output_type": "error",
     "traceback": [
      "\u001b[1;31mThe Kernel crashed while executing code in the current cell or a previous cell. \n",
      "\u001b[1;31mPlease review the code in the cell(s) to identify a possible cause of the failure. \n",
      "\u001b[1;31mClick <a href='https://aka.ms/vscodeJupyterKernelCrash'>here</a> for more info. \n",
      "\u001b[1;31mView Jupyter <a href='command:jupyter.viewOutput'>log</a> for further details."
     ]
    }
   ],
   "source": [
    "import wbdata\n",
    "import pandas as pd\n",
    "from datetime import datetime\n",
    "import os\n",
    "import tkinter as tk\n",
    "from tkinter import filedialog\n",
    "\n",
    "\n",
    "def get_file_path(title, action=\"open\", default_extension=\".xlsx\"):\n",
    "    root = tk.Tk()\n",
    "    root.withdraw()\n",
    "    if action == \"open\":\n",
    "        return filedialog.askopenfilename(\n",
    "            title=title,\n",
    "            filetypes=[(\"Excel files\", \"*.xlsx *.xls\")]\n",
    "        )\n",
    "    else:\n",
    "        return filedialog.asksaveasfilename(\n",
    "            title=title,\n",
    "            defaultextension=default_extension,\n",
    "            filetypes=[(\"Excel files\", \"*.xlsx\")]\n",
    "        )\n",
    "\n",
    "def download_indicators(indicators_dict, countries, dates):\n",
    "    \"\"\"Try to download each indicator and return successful ones\"\"\"\n",
    "    available_data = []\n",
    "    failed_indicators = []\n",
    "    \n",
    "    # Try each indicator individually\n",
    "    for code, name in indicators_dict.items():\n",
    "        try:\n",
    "            indicator = {code: name}\n",
    "            df = wbdata.get_dataframe(indicator, country=countries, date=dates)\n",
    "            if not df.empty:\n",
    "                available_data.append(df)\n",
    "            else:\n",
    "                failed_indicators.append((code, name))\n",
    "        except:\n",
    "            failed_indicators.append((code, name))\n",
    "            print(f\"Could not download indicator: {code} - {name}\")\n",
    "            continue\n",
    "    \n",
    "    # Combine all successful downloads if any\n",
    "    if available_data:\n",
    "        return pd.concat(available_data, axis=1), failed_indicators\n",
    "    else:\n",
    "        return None, failed_indicators\n",
    "    \n",
    "# Prompt user to select files\n",
    "print(\"Please select the countries Excel file...\") # this is included in the Github repo. Its set up to download Caribbean countries. Please change as needed\n",
    "countries_file = get_file_path(\"Select Countries Excel File\")\n",
    "print(\"Please select the indicators Excel file...\")\n",
    "indicators_file = get_file_path(\"Select Indicators Excel File\") # this is also included in the Github repo. You can change as needed. \n",
    "\n",
    "# Read the Excel files\n",
    "countries_df = pd.read_excel(countries_file)\n",
    "indicators_df = pd.read_excel(indicators_file)\n",
    "\n",
    "# Convert countries to list\n",
    "countries = countries_df.iloc[:, 0].tolist()  # Take first column\n",
    "\n",
    "# Convert indicators to dictionary\n",
    "requested_indicators = dict(zip(indicators_df['indicator_code'], indicators_df['indicator_name']))\n",
    "\n",
    "\n",
    "# Specify dates\n",
    "dates = (datetime(2000, 1, 1), datetime(2029, 1, 1)) # change this as needed\n",
    "\n",
    "print(\"\\nAttempting to download data...\")\n",
    "wb_data, failed_indicators = download_indicators(requested_indicators, countries, dates)\n",
    "\n",
    "if failed_indicators:\n",
    "    print(\"\\nThe following indicators could not be downloaded:\")\n",
    "    for code, name in failed_indicators:\n",
    "        print(f\"- {code}: {name}\")\n",
    "\n",
    "if wb_data is not None:\n",
    "    # Clean data\n",
    "    wb_data = wb_data.reset_index()\n",
    "    \n",
    "\n",
    "\n",
    "    # Prompt for saving the output\n",
    "    print(\"Please select where to save the output file...\")\n",
    "    save_path = filedialog.asksaveasfilename(defaultextension=\".csv\",\n",
    "                                            filetypes=[(\"CSV files\", \"*.csv\")])\n",
    "    \n",
    "    # Export to CSV\n",
    "    if save_path:\n",
    "        wb_data.to_csv(save_path, index=False)\n",
    "        print(f\"Data exported to: {save_path}\")\n",
    "    \n",
    "    print(\"\\nFirst few rows of downloaded data:\")\n",
    "    print(wb_data.head())\n",
    "else:\n",
    "    print(\"\\nNo data could be downloaded. Please check your indicator codes.\")"
   ]
  },
  {
   "cell_type": "code",
   "execution_count": null,
   "metadata": {},
   "outputs": [],
   "source": []
  }
 ],
 "metadata": {
  "kernelspec": {
   "display_name": "jlslu2025",
   "language": "python",
   "name": "python3"
  },
  "language_info": {
   "codemirror_mode": {
    "name": "ipython",
    "version": 3
   },
   "file_extension": ".py",
   "mimetype": "text/x-python",
   "name": "python",
   "nbconvert_exporter": "python",
   "pygments_lexer": "ipython3",
   "version": "3.13.2"
  }
 },
 "nbformat": 4,
 "nbformat_minor": 2
}
